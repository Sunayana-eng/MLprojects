{
 "cells": [
  {
   "cell_type": "markdown",
   "metadata": {},
   "source": [
    "# Welcome to Handwritten Digit Recognition Project"
   ]
  },
  {
   "cell_type": "markdown",
   "metadata": {},
   "source": [
    "## Importing Libraries"
   ]
  },
  {
   "cell_type": "code",
   "execution_count": 1,
   "metadata": {},
   "outputs": [],
   "source": [
    "import numpy as np\n",
    "import tensorflow as tf\n",
    "from keras.preprocessing.image import ImageDataGenerator"
   ]
  },
  {
   "cell_type": "markdown",
   "metadata": {},
   "source": [
    "## Preprocessing Training Dataset"
   ]
  },
  {
   "cell_type": "code",
   "execution_count": 2,
   "metadata": {},
   "outputs": [
    {
     "name": "stdout",
     "output_type": "stream",
     "text": [
      "Found 1500 images belonging to 10 classes.\n"
     ]
    }
   ],
   "source": [
    "train_datagen = ImageDataGenerator(rescale = 1./255,\n",
    "                                   shear_range = 0.2,\n",
    "                                   zoom_range = 0.2,\n",
    "                                   horizontal_flip = True)\n",
    "training_set = train_datagen.flow_from_directory('dataset/training_set',\n",
    "                                                 target_size = (64,64),\n",
    "                                                 batch_size = 32,\n",
    "                                                 class_mode = 'categorical')"
   ]
  },
  {
   "cell_type": "markdown",
   "metadata": {},
   "source": [
    "## Preprocessing Test Dataset"
   ]
  },
  {
   "cell_type": "code",
   "execution_count": 3,
   "metadata": {},
   "outputs": [
    {
     "name": "stdout",
     "output_type": "stream",
     "text": [
      "Found 300 images belonging to 10 classes.\n"
     ]
    }
   ],
   "source": [
    "test_datagen = ImageDataGenerator(rescale = 1./255)\n",
    "test_set = test_datagen.flow_from_directory('dataset/test_set',\n",
    "                                            target_size = (64,64),\n",
    "                                            batch_size = 32,\n",
    "                                            class_mode = 'categorical')\n",
    "#,class_mode = 'categorical'"
   ]
  },
  {
   "cell_type": "markdown",
   "metadata": {},
   "source": [
    "## Creating a Model"
   ]
  },
  {
   "cell_type": "markdown",
   "metadata": {},
   "source": [
    "### Initialising the CNN"
   ]
  },
  {
   "cell_type": "code",
   "execution_count": 4,
   "metadata": {},
   "outputs": [],
   "source": [
    "cnn = tf.keras.models.Sequential()"
   ]
  },
  {
   "cell_type": "markdown",
   "metadata": {},
   "source": [
    "### Step 1 - Convolution"
   ]
  },
  {
   "cell_type": "code",
   "execution_count": 5,
   "metadata": {},
   "outputs": [],
   "source": [
    "cnn.add(tf.keras.layers.Conv2D(filters=32, kernel_size=3, activation='relu',input_shape=(64,64,3)))"
   ]
  },
  {
   "cell_type": "markdown",
   "metadata": {},
   "source": [
    "### Step 2 - Pooling"
   ]
  },
  {
   "cell_type": "code",
   "execution_count": 6,
   "metadata": {},
   "outputs": [],
   "source": [
    "cnn.add(tf.keras.layers.MaxPool2D(pool_size=(2,2), strides = 2))"
   ]
  },
  {
   "cell_type": "markdown",
   "metadata": {},
   "source": [
    "### Adding a second convolutional layer"
   ]
  },
  {
   "cell_type": "code",
   "execution_count": 7,
   "metadata": {},
   "outputs": [],
   "source": [
    "cnn.add(tf.keras.layers.Conv2D(filters=32, kernel_size=3, activation='relu'))\n",
    "cnn.add(tf.keras.layers.MaxPool2D(pool_size=(2,2), strides = 2))"
   ]
  },
  {
   "cell_type": "markdown",
   "metadata": {},
   "source": [
    "### Step 3 - Flattening"
   ]
  },
  {
   "cell_type": "code",
   "execution_count": 8,
   "metadata": {},
   "outputs": [],
   "source": [
    "cnn.add(tf.keras.layers.Flatten())"
   ]
  },
  {
   "cell_type": "markdown",
   "metadata": {},
   "source": [
    "### Step 4 - Full Connection"
   ]
  },
  {
   "cell_type": "code",
   "execution_count": 9,
   "metadata": {},
   "outputs": [],
   "source": [
    "cnn.add(tf.keras.layers.Dense(units=128,activation='relu'))"
   ]
  },
  {
   "cell_type": "markdown",
   "metadata": {},
   "source": [
    "### Step 5 - Output Layer"
   ]
  },
  {
   "cell_type": "code",
   "execution_count": 10,
   "metadata": {},
   "outputs": [],
   "source": [
    "cnn.add(tf.keras.layers.Dense(units=10,activation='softmax'))"
   ]
  },
  {
   "cell_type": "markdown",
   "metadata": {},
   "source": [
    "## Training the Model"
   ]
  },
  {
   "cell_type": "markdown",
   "metadata": {},
   "source": [
    "### Compiling the CNN"
   ]
  },
  {
   "cell_type": "code",
   "execution_count": 11,
   "metadata": {},
   "outputs": [],
   "source": [
    "cnn.compile(optimizer='adam', loss=\"categorical_crossentropy\", metrics=['accuracy'])\n",
    "#tf.keras.losses.CategoricalCrossentropy(from_logits=True)"
   ]
  },
  {
   "cell_type": "markdown",
   "metadata": {},
   "source": [
    "### Training the CNN on the Training set and evaluating it on the Test set"
   ]
  },
  {
   "cell_type": "code",
   "execution_count": 12,
   "metadata": {},
   "outputs": [
    {
     "name": "stdout",
     "output_type": "stream",
     "text": [
      "Epoch 1/25\n",
      "47/47 [==============================] - 9s 181ms/step - loss: 2.3097 - accuracy: 0.1249 - val_loss: 2.1615 - val_accuracy: 0.2600\n",
      "Epoch 2/25\n",
      "47/47 [==============================] - 7s 150ms/step - loss: 1.8712 - accuracy: 0.3746 - val_loss: 2.0358 - val_accuracy: 0.2633\n",
      "Epoch 3/25\n",
      "47/47 [==============================] - 7s 154ms/step - loss: 1.5699 - accuracy: 0.4804 - val_loss: 1.8844 - val_accuracy: 0.2933\n",
      "Epoch 4/25\n",
      "47/47 [==============================] - 8s 161ms/step - loss: 1.4520 - accuracy: 0.5135 - val_loss: 1.6035 - val_accuracy: 0.4700\n",
      "Epoch 5/25\n",
      "47/47 [==============================] - 7s 156ms/step - loss: 1.2877 - accuracy: 0.5707 - val_loss: 1.4132 - val_accuracy: 0.5100\n",
      "Epoch 6/25\n",
      "47/47 [==============================] - 8s 161ms/step - loss: 1.0874 - accuracy: 0.6473 - val_loss: 1.2112 - val_accuracy: 0.6067\n",
      "Epoch 7/25\n",
      "47/47 [==============================] - 7s 156ms/step - loss: 0.9156 - accuracy: 0.6922 - val_loss: 1.0159 - val_accuracy: 0.7567\n",
      "Epoch 8/25\n",
      "47/47 [==============================] - 7s 157ms/step - loss: 0.8235 - accuracy: 0.7351 - val_loss: 1.3608 - val_accuracy: 0.4667\n",
      "Epoch 9/25\n",
      "47/47 [==============================] - 7s 157ms/step - loss: 0.8403 - accuracy: 0.7323 - val_loss: 1.0400 - val_accuracy: 0.6333\n",
      "Epoch 10/25\n",
      "47/47 [==============================] - 9s 183ms/step - loss: 0.7270 - accuracy: 0.7884 - val_loss: 0.6219 - val_accuracy: 0.8233\n",
      "Epoch 11/25\n",
      "47/47 [==============================] - 8s 170ms/step - loss: 0.5370 - accuracy: 0.8349 - val_loss: 0.6741 - val_accuracy: 0.8067\n",
      "Epoch 12/25\n",
      "47/47 [==============================] - 7s 157ms/step - loss: 0.5064 - accuracy: 0.8466 - val_loss: 0.6671 - val_accuracy: 0.7967\n",
      "Epoch 13/25\n",
      "47/47 [==============================] - 8s 165ms/step - loss: 0.4757 - accuracy: 0.8563 - val_loss: 0.5782 - val_accuracy: 0.8300\n",
      "Epoch 14/25\n",
      "47/47 [==============================] - 8s 176ms/step - loss: 0.4180 - accuracy: 0.8757 - val_loss: 0.5406 - val_accuracy: 0.8300\n",
      "Epoch 15/25\n",
      "47/47 [==============================] - 8s 167ms/step - loss: 0.3614 - accuracy: 0.8995 - val_loss: 0.5083 - val_accuracy: 0.8267\n",
      "Epoch 16/25\n",
      "47/47 [==============================] - 8s 170ms/step - loss: 0.3567 - accuracy: 0.8956 - val_loss: 0.6932 - val_accuracy: 0.7733\n",
      "Epoch 17/25\n",
      "47/47 [==============================] - 8s 171ms/step - loss: 0.3393 - accuracy: 0.8874 - val_loss: 0.4040 - val_accuracy: 0.8700\n",
      "Epoch 18/25\n",
      "47/47 [==============================] - 9s 191ms/step - loss: 0.2730 - accuracy: 0.9106 - val_loss: 0.4262 - val_accuracy: 0.8633\n",
      "Epoch 19/25\n",
      "47/47 [==============================] - 9s 193ms/step - loss: 0.2643 - accuracy: 0.9137 - val_loss: 0.4081 - val_accuracy: 0.8767\n",
      "Epoch 20/25\n",
      "47/47 [==============================] - 9s 181ms/step - loss: 0.2541 - accuracy: 0.9300 - val_loss: 0.3783 - val_accuracy: 0.8867\n",
      "Epoch 21/25\n",
      "47/47 [==============================] - 9s 183ms/step - loss: 0.2386 - accuracy: 0.9178 - val_loss: 0.4585 - val_accuracy: 0.8567\n",
      "Epoch 22/25\n",
      "47/47 [==============================] - 9s 186ms/step - loss: 0.1962 - accuracy: 0.9455 - val_loss: 0.4118 - val_accuracy: 0.8433\n",
      "Epoch 23/25\n",
      "47/47 [==============================] - 9s 187ms/step - loss: 0.1714 - accuracy: 0.9520 - val_loss: 0.3241 - val_accuracy: 0.9100\n",
      "Epoch 24/25\n",
      "47/47 [==============================] - 8s 180ms/step - loss: 0.1905 - accuracy: 0.9419 - val_loss: 0.2848 - val_accuracy: 0.9267\n",
      "Epoch 25/25\n",
      "47/47 [==============================] - 9s 198ms/step - loss: 0.1164 - accuracy: 0.9688 - val_loss: 0.3632 - val_accuracy: 0.8933\n"
     ]
    },
    {
     "data": {
      "text/plain": [
       "<tensorflow.python.keras.callbacks.History at 0x239406a8130>"
      ]
     },
     "execution_count": 12,
     "metadata": {},
     "output_type": "execute_result"
    }
   ],
   "source": [
    "cnn.fit(x=training_set, validation_data=test_set, epochs=25)"
   ]
  },
  {
   "cell_type": "markdown",
   "metadata": {},
   "source": [
    "### Making single prediction"
   ]
  },
  {
   "cell_type": "code",
   "execution_count": 13,
   "metadata": {},
   "outputs": [],
   "source": [
    "import numpy as np\n",
    "from keras.preprocessing import image\n",
    "import tensorflow as tf\n",
    "import tkinter as tk\n",
    "from tkinter import *\n",
    "import win32gui\n",
    "from PIL import ImageGrab, Image\n",
    "\n"
   ]
  },
  {
   "cell_type": "code",
   "execution_count": 43,
   "metadata": {},
   "outputs": [
    {
     "data": {
      "text/plain": [
       "7"
      ]
     },
     "execution_count": 43,
     "metadata": {},
     "output_type": "execute_result"
    }
   ],
   "source": [
    "img = image.load_img('dataset/single_prediction/7.png', target_size = (64, 64))\n",
    "img = image.img_to_array(img)\n",
    "img =  img/255.0\n",
    "img = np.expand_dims(img, axis = 0)  \n",
    "result = cnn.predict(img)\n",
    "np.argmax(result)\n",
    "#img"
   ]
  },
  {
   "cell_type": "markdown",
   "metadata": {},
   "source": [
    "## Creating GUI for input"
   ]
  },
  {
   "cell_type": "code",
   "execution_count": 39,
   "metadata": {},
   "outputs": [],
   "source": [
    "def predict_digit(img):\n",
    "    img = img.resize((64,64))\n",
    "    img = image.img_to_array(img)\n",
    "    img = img/255.0\n",
    "    img = np.expand_dims(img, axis = 0)  \n",
    "    result = cnn.predict(img)\n",
    "    return np.argmax(result),max(result)\n",
    "   "
   ]
  },
  {
   "cell_type": "code",
   "execution_count": 40,
   "metadata": {},
   "outputs": [],
   "source": [
    "class App(tk.Tk):\n",
    "    def __init__(self):\n",
    "        tk.Tk.__init__(self)\n",
    "\n",
    "        self.x = self.y = 0\n",
    "\n",
    "        # Creating elements\n",
    "        self.canvas = tk.Canvas(self, width=300, height=300, bg = \"white\", cursor=\"cross\")\n",
    "        self.label = tk.Label(self, text=\"Thinking..\", font=(\"Helvetica\", 48))\n",
    "        self.classify_btn = tk.Button(self, text = \"Recognise\", command =         self.classify_handwriting) \n",
    "        self.button_clear = tk.Button(self, text = \"Clear\", command = self.clear_all)\n",
    "\n",
    "        # Grid structure\n",
    "        self.canvas.grid(row=0, column=0, pady=2, sticky=W, )\n",
    "        self.label.grid(row=0, column=1,pady=2, padx=2)\n",
    "        self.classify_btn.grid(row=1, column=1, pady=2, padx=2)\n",
    "        self.button_clear.grid(row=1, column=0, pady=2)\n",
    "\n",
    "        #self.canvas.bind(\"<Motion>\", self.start_pos)\n",
    "        self.canvas.bind(\"<B1-Motion>\", self.draw_lines)\n",
    "\n",
    "    def clear_all(self):\n",
    "        self.canvas.delete(\"all\")\n",
    "\n",
    "    def classify_handwriting(self):\n",
    "        HWND = self.canvas.winfo_id() # get the handle of the canvas\n",
    "        rect = win32gui.GetWindowRect(HWND) # get the coordinate of the canvas\n",
    "        im = ImageGrab.grab(rect)\n",
    "\n",
    "        digit, acc = predict_digit(im)\n",
    "        self.label.configure(text= str(digit))\n",
    "\n",
    "    def draw_lines(self, event):\n",
    "        self.x = event.x\n",
    "        self.y = event.y\n",
    "        r=8\n",
    "        self.canvas.create_oval(self.x-r, self.y-r, self.x + r, self.y + r, fill='black')\n",
    "\n",
    "#root = tk()\n",
    "app = App()\n",
    "mainloop()"
   ]
  },
  {
   "cell_type": "code",
   "execution_count": 57,
   "metadata": {},
   "outputs": [
    {
     "data": {
      "text/plain": [
       "array([[1, 2],\n",
       "       [3, 4]])"
      ]
     },
     "execution_count": 57,
     "metadata": {},
     "output_type": "execute_result"
    }
   ],
   "source": [
    "x = np.array([[1,2],[3,4]])\n",
    "x"
   ]
  },
  {
   "cell_type": "code",
   "execution_count": 58,
   "metadata": {},
   "outputs": [],
   "source": [
    "x= np.expand_dims(x,axis=0)\n"
   ]
  },
  {
   "cell_type": "code",
   "execution_count": 59,
   "metadata": {},
   "outputs": [
    {
     "data": {
      "text/plain": [
       "array([[[1, 2],\n",
       "        [3, 4]]])"
      ]
     },
     "execution_count": 59,
     "metadata": {},
     "output_type": "execute_result"
    }
   ],
   "source": [
    "x"
   ]
  },
  {
   "cell_type": "code",
   "execution_count": 62,
   "metadata": {},
   "outputs": [
    {
     "data": {
      "text/plain": [
       "array([[1, 2],\n",
       "       [3, 4]])"
      ]
     },
     "execution_count": 62,
     "metadata": {},
     "output_type": "execute_result"
    }
   ],
   "source": [
    "x = np.array([[1,2],[3,4]])\n",
    "x"
   ]
  },
  {
   "cell_type": "code",
   "execution_count": 63,
   "metadata": {},
   "outputs": [
    {
     "data": {
      "text/plain": [
       "array([[[1, 2]],\n",
       "\n",
       "       [[3, 4]]])"
      ]
     },
     "execution_count": 63,
     "metadata": {},
     "output_type": "execute_result"
    }
   ],
   "source": [
    "x= np.expand_dims(x,axis=1)\n",
    "x"
   ]
  },
  {
   "cell_type": "code",
   "execution_count": null,
   "metadata": {},
   "outputs": [],
   "source": []
  }
 ],
 "metadata": {
  "kernelspec": {
   "display_name": "Python 3",
   "language": "python",
   "name": "python3"
  },
  "language_info": {
   "codemirror_mode": {
    "name": "ipython",
    "version": 3
   },
   "file_extension": ".py",
   "mimetype": "text/x-python",
   "name": "python",
   "nbconvert_exporter": "python",
   "pygments_lexer": "ipython3",
   "version": "3.8.5"
  }
 },
 "nbformat": 4,
 "nbformat_minor": 4
}
